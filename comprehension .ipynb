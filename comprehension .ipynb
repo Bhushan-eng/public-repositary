{
 "cells": [
  {
   "cell_type": "code",
   "execution_count": null,
   "id": "31d10640-a67a-47b8-80b0-10ccc86ca8e5",
   "metadata": {},
   "outputs": [],
   "source": [
    "list comprehension\n",
    "tuple comprehension\n",
    "dist comprehension "
   ]
  },
  {
   "cell_type": "code",
   "execution_count": null,
   "id": "a5d538cc-4157-4078-85b4-5e40c63e5f4a",
   "metadata": {},
   "outputs": [],
   "source": [
    "list compression -- >"
   ]
  },
  {
   "cell_type": "code",
   "execution_count": 2,
   "id": "33f253f3-0519-43ce-a243-98fe1513fd0c",
   "metadata": {},
   "outputs": [],
   "source": [
    "p=[3324,33,55,6,77,88,99]"
   ]
  },
  {
   "cell_type": "code",
   "execution_count": 6,
   "id": "6940d22e-759a-4539-b442-cf7762f6f9d2",
   "metadata": {},
   "outputs": [
    {
     "name": "stdout",
     "output_type": "stream",
     "text": [
      "[3324, 6, 88]\n"
     ]
    }
   ],
   "source": [
    "even= []\n",
    "for element in p:\n",
    "    if element%2==0:\n",
    "        even.append(element)\n",
    "print(even)"
   ]
  },
  {
   "cell_type": "code",
   "execution_count": 14,
   "id": "c54db2e3-9513-4c32-9dd1-291268654d12",
   "metadata": {},
   "outputs": [],
   "source": [
    "P =[10,33,44,55,66,77,88,99]"
   ]
  },
  {
   "cell_type": "code",
   "execution_count": 19,
   "id": "75a8df08-b54a-4058-ac1b-0964c9500879",
   "metadata": {},
   "outputs": [
    {
     "ename": "SyntaxError",
     "evalue": "invalid syntax (2430018989.py, line 3)",
     "output_type": "error",
     "traceback": [
      "\u001b[1;36m  Cell \u001b[1;32mIn[19], line 3\u001b[1;36m\u001b[0m\n\u001b[1;33m    if element!=%2==0:\u001b[0m\n\u001b[1;37m                ^\u001b[0m\n\u001b[1;31mSyntaxError\u001b[0m\u001b[1;31m:\u001b[0m invalid syntax\n"
     ]
    }
   ],
   "source": [
    "odd=[]\n",
    "for element in P:\n",
    "    if element!%2==0:\n",
    "        odd.append(element)\n",
    "print(odd)"
   ]
  },
  {
   "cell_type": "code",
   "execution_count": null,
   "id": "d3e0a31a-e1cb-40b2-9a2e-87b3763a28d1",
   "metadata": {},
   "outputs": [],
   "source": [
    "for loop with single condition"
   ]
  },
  {
   "cell_type": "code",
   "execution_count": null,
   "id": "8dafbdfc-914d-45bf-b103-591277cf3066",
   "metadata": {},
   "outputs": [],
   "source": [
    "[var for var in seq if condition]"
   ]
  },
  {
   "cell_type": "code",
   "execution_count": 20,
   "id": "436d632a-766f-4b0d-9a89-1b7bc7113120",
   "metadata": {},
   "outputs": [
    {
     "data": {
      "text/plain": [
       "[3324, 6, 88]"
      ]
     },
     "execution_count": 20,
     "metadata": {},
     "output_type": "execute_result"
    }
   ],
   "source": [
    "[element for element in p if element%2==0]"
   ]
  },
  {
   "cell_type": "code",
   "execution_count": 22,
   "id": "ca1cd9d4-4c6a-471d-89e7-adf64965c455",
   "metadata": {},
   "outputs": [],
   "source": [
    "list = ['file.pdf','list.pdf','data.pdf','data.csv']"
   ]
  },
  {
   "cell_type": "code",
   "execution_count": 23,
   "id": "94a8e672-4736-4080-ab98-e08eb3482a82",
   "metadata": {},
   "outputs": [
    {
     "name": "stdout",
     "output_type": "stream",
     "text": [
      "['file.pdf', 'list.pdf', 'data.pdf']\n"
     ]
    }
   ],
   "source": [
    "pdf = []\n",
    "for element in list:\n",
    "    if element .endswith('pdf'):\n",
    "        pdf.append(element)\n",
    "    else:\n",
    "        print(pdf)"
   ]
  },
  {
   "cell_type": "code",
   "execution_count": 24,
   "id": "3da39453-2a10-4817-bed2-790cb533f5ba",
   "metadata": {},
   "outputs": [
    {
     "data": {
      "text/plain": [
       "['file.pdf', 'list.pdf', 'data.pdf']"
      ]
     },
     "execution_count": 24,
     "metadata": {},
     "output_type": "execute_result"
    }
   ],
   "source": [
    "[x for x in list if x.endswith('pdf')]"
   ]
  },
  {
   "cell_type": "code",
   "execution_count": 28,
   "id": "ceafc089-7dd6-4f88-9b54-2824fd870c5e",
   "metadata": {},
   "outputs": [
    {
     "data": {
      "text/plain": [
       "('file.pdf', 'list.pdf', 'data.pdf')"
      ]
     },
     "execution_count": 28,
     "metadata": {},
     "output_type": "execute_result"
    }
   ],
   "source": [
    "tuple(filter(lambda x:x.endswith('pdf'),list))"
   ]
  },
  {
   "cell_type": "code",
   "execution_count": 44,
   "id": "ad827dec-f9de-48bf-8b2f-d708b1c1428c",
   "metadata": {},
   "outputs": [],
   "source": [
    "A = [33,44,56,78,22,'gfgdmf',34,'ehj']"
   ]
  },
  {
   "cell_type": "code",
   "execution_count": 42,
   "id": "710beb70-bfe3-407a-bf3d-b28b4bb102fb",
   "metadata": {},
   "outputs": [
    {
     "name": "stdout",
     "output_type": "stream",
     "text": [
      "['a']\n"
     ]
    }
   ],
   "source": [
    "\n",
    "aplha=[]\n",
    "for element in a :\n",
    "    if element.isalpha:\n",
    "        aplha.append(element)\n",
    "print(aplha)\n",
    "        "
   ]
  },
  {
   "cell_type": "code",
   "execution_count": 46,
   "id": "4301df9e-3030-4123-8251-6f7c79ef5bcf",
   "metadata": {},
   "outputs": [],
   "source": [
    "invalid =[z for z in A if str(z).isalpha()]"
   ]
  },
  {
   "cell_type": "code",
   "execution_count": 47,
   "id": "6c538110-b5a9-4d3f-912a-1ddc7ab131ae",
   "metadata": {},
   "outputs": [
    {
     "data": {
      "text/plain": [
       "['gfgdmf', 'ehj']"
      ]
     },
     "execution_count": 47,
     "metadata": {},
     "output_type": "execute_result"
    }
   ],
   "source": [
    "invalid"
   ]
  },
  {
   "cell_type": "code",
   "execution_count": null,
   "id": "ee244d3d-84ed-4947-83c0-81f9cf6ecc1d",
   "metadata": {},
   "outputs": [],
   "source": [
    "1 itration\n",
    "2 condition\n",
    "3 if true then in output"
   ]
  },
  {
   "cell_type": "code",
   "execution_count": null,
   "id": "12afb9a5-325e-4d77-86ba-3ed4994b2b6a",
   "metadata": {},
   "outputs": [],
   "source": [
    "list \n",
    " itration \n",
    "condition"
   ]
  },
  {
   "cell_type": "code",
   "execution_count": null,
   "id": "4d032ac6-b09e-4a77-b03a-c61f748964d0",
   "metadata": {},
   "outputs": [],
   "source": [
    "dict compreshion "
   ]
  },
  {
   "cell_type": "code",
   "execution_count": 48,
   "id": "d5be4d77-14c0-4c1e-b047-7e11946d6ed6",
   "metadata": {},
   "outputs": [],
   "source": [
    "p= [1,2,3,4]"
   ]
  },
  {
   "cell_type": "code",
   "execution_count": 49,
   "id": "9fd3d5e4-b7e6-485f-98eb-148d25922d76",
   "metadata": {},
   "outputs": [
    {
     "data": {
      "text/plain": [
       "{1: 1, 2: 2, 3: 3, 4: 4}"
      ]
     },
     "execution_count": 49,
     "metadata": {},
     "output_type": "execute_result"
    }
   ],
   "source": [
    "{x:x for x in p}"
   ]
  },
  {
   "cell_type": "code",
   "execution_count": 50,
   "id": "198a785d-d483-4282-a36d-fe3b4282ad3c",
   "metadata": {},
   "outputs": [
    {
     "data": {
      "text/plain": [
       "{'file.pdf': 'file.pdf',\n",
       " 'list.pdf': 'list.pdf',\n",
       " 'data.pdf': 'data.pdf',\n",
       " 'data.csv': 'data.csv'}"
      ]
     },
     "execution_count": 50,
     "metadata": {},
     "output_type": "execute_result"
    }
   ],
   "source": [
    "{x:x for x in list}"
   ]
  },
  {
   "cell_type": "code",
   "execution_count": 51,
   "id": "6e36e70d-fc37-46df-a92c-2a1e17c3fe88",
   "metadata": {},
   "outputs": [],
   "source": [
    "p=['python','java','datascience']"
   ]
  },
  {
   "cell_type": "code",
   "execution_count": 52,
   "id": "a3f16e50-191e-49c0-bc67-dfc5d0860fdc",
   "metadata": {},
   "outputs": [
    {
     "data": {
      "text/plain": [
       "{'python': 6, 'java': 4, 'datascience': 11}"
      ]
     },
     "execution_count": 52,
     "metadata": {},
     "output_type": "execute_result"
    }
   ],
   "source": [
    "{x:len(x)for x in p}"
   ]
  },
  {
   "cell_type": "code",
   "execution_count": 1,
   "id": "6cdcab7a-9524-4b75-8764-8590a57d7fbf",
   "metadata": {},
   "outputs": [],
   "source": [
    "list = ['test@gmail.com','radha@yahoo.com','samir@rediffmail.com']"
   ]
  },
  {
   "cell_type": "code",
   "execution_count": 2,
   "id": "c4ad6a1a-87fb-4e81-ab51-d4b2fda3df7c",
   "metadata": {},
   "outputs": [
    {
     "data": {
      "text/plain": [
       "['test@gmail.com', 'radha@yahoo.com', 'samir@rediffmail.com']"
      ]
     },
     "execution_count": 2,
     "metadata": {},
     "output_type": "execute_result"
    }
   ],
   "source": [
    "list"
   ]
  },
  {
   "cell_type": "code",
   "execution_count": 3,
   "id": "a68b6995-0ca5-4c57-81f4-b2085b04aa70",
   "metadata": {},
   "outputs": [
    {
     "name": "stdout",
     "output_type": "stream",
     "text": [
      "radha@yahoo.com\n"
     ]
    }
   ],
   "source": [
    "for i in list:\n",
    "    if i.endswith('@yahoo.com'):  # using for loop \n",
    "        print (i)"
   ]
  },
  {
   "cell_type": "code",
   "execution_count": 7,
   "id": "721c53be-1c47-46db-bf58-060d90f3fe0e",
   "metadata": {},
   "outputs": [
    {
     "data": {
      "text/plain": [
       "['radha@yahoo.com']"
      ]
     },
     "execution_count": 7,
     "metadata": {},
     "output_type": "execute_result"
    }
   ],
   "source": [
    "[i for i in list if i.endswith ('@yahoo.com')] # list comprehension "
   ]
  },
  {
   "cell_type": "code",
   "execution_count": 26,
   "id": "2e516d5f-4452-4b8d-aaf1-aab1a811a327",
   "metadata": {},
   "outputs": [],
   "source": [
    "p = [1,3,4,5,67,76]"
   ]
  },
  {
   "cell_type": "code",
   "execution_count": null,
   "id": "2d8145c3-b523-439e-9c77-5d30c0bec4fb",
   "metadata": {},
   "outputs": [],
   "source": [
    "lambda expression \n",
    "it is anonymous -- no name \n",
    "temporary function - one time use \n",
    "no name function l\n",
    "just in time \n",
    "higher order function\n",
    "short task normal function consume memorry \n"
   ]
  },
  {
   "cell_type": "code",
   "execution_count": null,
   "id": "5bbf0b81-8215-4eb7-9809-b8802acf375b",
   "metadata": {},
   "outputs": [],
   "source": [
    "lambda inputs : outpur expresssion "
   ]
  },
  {
   "cell_type": "code",
   "execution_count": 4,
   "id": "a1a6bd65-9e29-46fc-88bb-7f660cd07862",
   "metadata": {},
   "outputs": [
    {
     "data": {
      "text/plain": [
       "30"
      ]
     },
     "execution_count": 4,
     "metadata": {},
     "output_type": "execute_result"
    }
   ],
   "source": [
    "(lambda x,y:x+y)(10,20)"
   ]
  },
  {
   "cell_type": "code",
   "execution_count": 20,
   "id": "b1afce60-82d2-4c7a-9c1f-d864d2d0a46b",
   "metadata": {},
   "outputs": [],
   "source": [
    "def sum(x,y):\n",
    "    z=x+y\n",
    "    print (z)"
   ]
  },
  {
   "cell_type": "code",
   "execution_count": 21,
   "id": "6a4735f9-b1a1-4b98-962c-51ea1002bcab",
   "metadata": {},
   "outputs": [
    {
     "name": "stdout",
     "output_type": "stream",
     "text": [
      "30\n"
     ]
    }
   ],
   "source": [
    "sum(10,20)"
   ]
  },
  {
   "cell_type": "code",
   "execution_count": null,
   "id": "66cf1232-0107-4514-9a49-8f8cee8992ae",
   "metadata": {},
   "outputs": [],
   "source": [
    "col , ds , list,  tuple , set, dict"
   ]
  },
  {
   "cell_type": "code",
   "execution_count": 24,
   "id": "2cd5ee11-e93f-4034-9875-69b3c1b7ce80",
   "metadata": {},
   "outputs": [
    {
     "data": {
      "text/plain": [
       "460"
      ]
     },
     "execution_count": 24,
     "metadata": {},
     "output_type": "execute_result"
    }
   ],
   "source": [
    "(lambda x,y:x*2+2*x*y+y*2)(10,20)"
   ]
  },
  {
   "cell_type": "code",
   "execution_count": 25,
   "id": "24e4ea36-b234-4f31-aba5-76d9f1cd05ce",
   "metadata": {},
   "outputs": [
    {
     "data": {
      "text/plain": [
       "10"
      ]
     },
     "execution_count": 25,
     "metadata": {},
     "output_type": "execute_result"
    }
   ],
   "source": [
    "(lambda x,y:x*2+2*x*y+y*2)(1,2)"
   ]
  },
  {
   "cell_type": "code",
   "execution_count": null,
   "id": "22704ff9-4564-40af-8fee-ced23085f19f",
   "metadata": {},
   "outputs": [],
   "source": [
    "yes if condition else no"
   ]
  },
  {
   "cell_type": "code",
   "execution_count": 26,
   "id": "c3ba2092-51a0-4fa3-89cb-2a257882dc3d",
   "metadata": {},
   "outputs": [],
   "source": [
    "x=450\n",
    "y=200"
   ]
  },
  {
   "cell_type": "code",
   "execution_count": 28,
   "id": "8b504099-01d2-426d-9b2a-384431fe6868",
   "metadata": {},
   "outputs": [
    {
     "data": {
      "text/plain": [
       "450"
      ]
     },
     "execution_count": 28,
     "metadata": {},
     "output_type": "execute_result"
    }
   ],
   "source": [
    "x if x>y else y  #  ternery oprator "
   ]
  },
  {
   "cell_type": "code",
   "execution_count": null,
   "id": "df558dc2-7afe-4160-b67a-e9c7f3b1bd59",
   "metadata": {},
   "outputs": [],
   "source": [
    "lambda \n",
    "map \n",
    "filter "
   ]
  },
  {
   "cell_type": "code",
   "execution_count": null,
   "id": "19b5c6d1-ff23-4a59-8e60-2a6e90c57a0b",
   "metadata": {},
   "outputs": [],
   "source": [
    "map (function ,sq/ds)"
   ]
  },
  {
   "cell_type": "code",
   "execution_count": 30,
   "id": "c9c91a08-740d-48a5-93fd-e6488aa4bf45",
   "metadata": {},
   "outputs": [],
   "source": [
    "emails =  ['test@gmail.com','radha@gmail.com','samir@gmail.com']"
   ]
  },
  {
   "cell_type": "code",
   "execution_count": null,
   "id": "27d3850d-4eb8-4653-b9b5-b96537770070",
   "metadata": {},
   "outputs": [],
   "source": [
    "how to fetch usernam ?"
   ]
  },
  {
   "cell_type": "code",
   "execution_count": 40,
   "id": "d39ca546-6c1c-45cb-8041-405f8b005c6e",
   "metadata": {},
   "outputs": [
    {
     "name": "stdout",
     "output_type": "stream",
     "text": [
      "['test', 'radha', 'samir']\n"
     ]
    }
   ],
   "source": [
    "username =[]\n",
    "for i in emails:\n",
    "    list = i.split ('@gmail.com')[0]  # for using for loop \n",
    "    username.append (list)\n",
    "print (username)"
   ]
  },
  {
   "cell_type": "code",
   "execution_count": 59,
   "id": "94ae09c2-5048-474a-acb0-c3ac2bbe4190",
   "metadata": {},
   "outputs": [],
   "source": [
    "def to_fetch_username(i):\n",
    "    username = i.split ('@gmail.com')[0] # for using function \n",
    "    print (username)"
   ]
  },
  {
   "cell_type": "code",
   "execution_count": 60,
   "id": "04d5cb18-bb46-4a2f-a0fd-2d9d604eb6d1",
   "metadata": {},
   "outputs": [
    {
     "name": "stdout",
     "output_type": "stream",
     "text": [
      "test\n"
     ]
    }
   ],
   "source": [
    "to_fetch_username('test@gmail.com')  #function using single  condition "
   ]
  },
  {
   "cell_type": "code",
   "execution_count": 61,
   "id": "73c7b1e0-1e98-4848-a668-a2085c4542a4",
   "metadata": {},
   "outputs": [
    {
     "ename": "TypeError",
     "evalue": "to_fetch_username() takes 1 positional argument but 2 were given",
     "output_type": "error",
     "traceback": [
      "\u001b[1;31m---------------------------------------------------------------------------\u001b[0m",
      "\u001b[1;31mTypeError\u001b[0m                                 Traceback (most recent call last)",
      "Cell \u001b[1;32mIn[61], line 1\u001b[0m\n\u001b[1;32m----> 1\u001b[0m to_fetch_username(\u001b[38;5;124m'\u001b[39m\u001b[38;5;124mtest@gmail.com\u001b[39m\u001b[38;5;124m'\u001b[39m,\u001b[38;5;124m'\u001b[39m\u001b[38;5;124mrahul@gamil.com\u001b[39m\u001b[38;5;124m'\u001b[39m)\n",
      "\u001b[1;31mTypeError\u001b[0m: to_fetch_username() takes 1 positional argument but 2 were given"
     ]
    }
   ],
   "source": [
    "to_fetch_username('test@gmail.com','rahul@gamil.com') #we cannot give apply more condition at that time "
   ]
  },
  {
   "cell_type": "code",
   "execution_count": 65,
   "id": "2f232a40-98c8-4363-a47c-82f729650b01",
   "metadata": {},
   "outputs": [
    {
     "data": {
      "text/plain": [
       "'test'"
      ]
     },
     "execution_count": 65,
     "metadata": {},
     "output_type": "execute_result"
    }
   ],
   "source": [
    "(lambda emails :emails.split ('@gmail.com')[0])('test@gmail.com')  #using lambda expression "
   ]
  },
  {
   "cell_type": "code",
   "execution_count": 69,
   "id": "bce72e0f-db30-430a-aa7d-ff8537ea3eed",
   "metadata": {},
   "outputs": [
    {
     "data": {
      "text/plain": [
       "['test', 'radha', 'samir']"
      ]
     },
     "execution_count": 69,
     "metadata": {},
     "output_type": "execute_result"
    }
   ],
   "source": [
    "[i.split('@gmail.com')[0] for i in emails if i.split('@gmail.com')]  #using list comprhension "
   ]
  },
  {
   "cell_type": "code",
   "execution_count": 70,
   "id": "45bcc0b9-c310-4936-bacd-bb2082923a5d",
   "metadata": {},
   "outputs": [
    {
     "ename": "TypeError",
     "evalue": "'str' object is not callable",
     "output_type": "error",
     "traceback": [
      "\u001b[1;31m---------------------------------------------------------------------------\u001b[0m",
      "\u001b[1;31mTypeError\u001b[0m                                 Traceback (most recent call last)",
      "Cell \u001b[1;32mIn[70], line 1\u001b[0m\n\u001b[1;32m----> 1\u001b[0m \u001b[38;5;28mlist\u001b[39m(\u001b[38;5;28mmap\u001b[39m(to_fetch_username,emails ))\n",
      "\u001b[1;31mTypeError\u001b[0m: 'str' object is not callable"
     ]
    }
   ],
   "source": [
    "list(map(to_fetch_username,emails ))"
   ]
  },
  {
   "cell_type": "code",
   "execution_count": 80,
   "id": "6dd475f2-0f29-4681-8def-74996ef6e213",
   "metadata": {},
   "outputs": [
    {
     "data": {
      "text/plain": [
       "['test@gmail.com', 'radha@gmail.com', 'samir@gmail.com']"
      ]
     },
     "execution_count": 80,
     "metadata": {},
     "output_type": "execute_result"
    }
   ],
   "source": [
    "emails"
   ]
  },
  {
   "cell_type": "code",
   "execution_count": 81,
   "id": "afacae2f-f379-4ba8-bde2-c7c500fa3518",
   "metadata": {},
   "outputs": [
    {
     "name": "stdout",
     "output_type": "stream",
     "text": [
      "test\n"
     ]
    }
   ],
   "source": [
    "to_fetch_username ('test@gmail.com')"
   ]
  },
  {
   "cell_type": "code",
   "execution_count": 82,
   "id": "69e905b8-2212-43ac-bb69-3ffb871f69ce",
   "metadata": {},
   "outputs": [
    {
     "ename": "TypeError",
     "evalue": "'str' object is not callable",
     "output_type": "error",
     "traceback": [
      "\u001b[1;31m---------------------------------------------------------------------------\u001b[0m",
      "\u001b[1;31mTypeError\u001b[0m                                 Traceback (most recent call last)",
      "Cell \u001b[1;32mIn[82], line 1\u001b[0m\n\u001b[1;32m----> 1\u001b[0m \u001b[38;5;28mlist\u001b[39m(\u001b[38;5;28mmap\u001b[39m(to_fetch_username,emails))\n",
      "\u001b[1;31mTypeError\u001b[0m: 'str' object is not callable"
     ]
    }
   ],
   "source": [
    "list(map(to_fetch_username,emails))"
   ]
  },
  {
   "cell_type": "code",
   "execution_count": 87,
   "id": "26fae235-0df3-47c7-96b2-80e86f92e9d2",
   "metadata": {},
   "outputs": [
    {
     "ename": "TypeError",
     "evalue": "'str' object is not callable",
     "output_type": "error",
     "traceback": [
      "\u001b[1;31m---------------------------------------------------------------------------\u001b[0m",
      "\u001b[1;31mTypeError\u001b[0m                                 Traceback (most recent call last)",
      "Cell \u001b[1;32mIn[87], line 1\u001b[0m\n\u001b[1;32m----> 1\u001b[0m \u001b[38;5;28mlist\u001b[39m(\u001b[38;5;28mmap\u001b[39m(\u001b[38;5;28;01mlambda\u001b[39;00m i:inr(i)\u001b[38;5;241m.\u001b[39msplit (\u001b[38;5;124m'\u001b[39m\u001b[38;5;124m@gmail.com\u001b[39m\u001b[38;5;124m'\u001b[39m)[\u001b[38;5;241m0\u001b[39m],emails))\n",
      "\u001b[1;31mTypeError\u001b[0m: 'str' object is not callable"
     ]
    }
   ],
   "source": [
    " list(map(lambda i:inr(i).split ('@gmail.com')[0],emails))"
   ]
  },
  {
   "cell_type": "code",
   "execution_count": 83,
   "id": "ccef3493-e28a-456b-a6ab-658640fa5e07",
   "metadata": {},
   "outputs": [],
   "source": [
    "prd =['px-22222','hs-567890','px-6789']"
   ]
  },
  {
   "cell_type": "code",
   "execution_count": 86,
   "id": "8bb99132-e51b-4d1a-b8a9-c7afd0342c52",
   "metadata": {},
   "outputs": [
    {
     "ename": "TypeError",
     "evalue": "'str' object is not callable",
     "output_type": "error",
     "traceback": [
      "\u001b[1;31m---------------------------------------------------------------------------\u001b[0m",
      "\u001b[1;31mTypeError\u001b[0m                                 Traceback (most recent call last)",
      "Cell \u001b[1;32mIn[86], line 1\u001b[0m\n\u001b[1;32m----> 1\u001b[0m \u001b[38;5;28mlist\u001b[39m (\u001b[38;5;28mmap\u001b[39m(\u001b[38;5;28;01mlambda\u001b[39;00m i:\u001b[38;5;28mint\u001b[39m(i)\u001b[38;5;241m.\u001b[39msplit (\u001b[38;5;124m'\u001b[39m\u001b[38;5;124m-\u001b[39m\u001b[38;5;124m'\u001b[39m)[\u001b[38;5;241m1\u001b[39m],prd))\n",
      "\u001b[1;31mTypeError\u001b[0m: 'str' object is not callable"
     ]
    }
   ],
   "source": [
    "list (map(lambda i:int(i).split ('-')[1],prd))"
   ]
  },
  {
   "cell_type": "code",
   "execution_count": null,
   "id": "99f3c306-69c5-4f0f-9f1d-fba4f1b4feda",
   "metadata": {},
   "outputs": [],
   "source": []
  }
 ],
 "metadata": {
  "kernelspec": {
   "display_name": "Python 3 (ipykernel)",
   "language": "python",
   "name": "python3"
  },
  "language_info": {
   "codemirror_mode": {
    "name": "ipython",
    "version": 3
   },
   "file_extension": ".py",
   "mimetype": "text/x-python",
   "name": "python",
   "nbconvert_exporter": "python",
   "pygments_lexer": "ipython3",
   "version": "3.11.7"
  }
 },
 "nbformat": 4,
 "nbformat_minor": 5
}
