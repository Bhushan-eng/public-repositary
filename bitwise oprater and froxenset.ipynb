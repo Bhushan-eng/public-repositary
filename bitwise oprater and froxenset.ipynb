{
 "cells": [
  {
   "cell_type": "code",
   "execution_count": null,
   "id": "c198f446-f5fc-4ef3-8f59-673172215454",
   "metadata": {},
   "outputs": [],
   "source": [
    "bit wise oprator 0-1\n",
    "& |\n",
    "&- and\n",
    " or  |"
   ]
  },
  {
   "cell_type": "code",
   "execution_count": 1,
   "id": "1c0e9131-e6b0-4957-9504-726e0bfd2141",
   "metadata": {},
   "outputs": [
    {
     "data": {
      "text/plain": [
       "13"
      ]
     },
     "execution_count": 1,
     "metadata": {},
     "output_type": "execute_result"
    }
   ],
   "source": [
    "15&45"
   ]
  },
  {
   "cell_type": "code",
   "execution_count": null,
   "id": "caebc6d7-125d-4665-b63c-9f8024d902d2",
   "metadata": {},
   "outputs": [],
   "source": [
    "data =111000100100"
   ]
  },
  {
   "cell_type": "code",
   "execution_count": 2,
   "id": "24ea6ba4-526a-4928-a057-6d07e6595355",
   "metadata": {},
   "outputs": [
    {
     "data": {
      "text/plain": [
       "61"
      ]
     },
     "execution_count": 2,
     "metadata": {},
     "output_type": "execute_result"
    }
   ],
   "source": [
    "45|20"
   ]
  },
  {
   "cell_type": "code",
   "execution_count": null,
   "id": "40d14092-fc2d-44b5-81aa-9a1f0e65a052",
   "metadata": {},
   "outputs": [],
   "source": [
    "bitwise oprater is oprating in binary system \n",
    "we use decimal system on regularly basis \n",
    "it is conversion of decimal to binary \n"
   ]
  },
  {
   "cell_type": "code",
   "execution_count": null,
   "id": "8730a035-67f0-415d-ba93-ec0df20acf5e",
   "metadata": {},
   "outputs": [],
   "source": [
    "frozenset \n",
    "it is also collection of unorderd unique element \n",
    "denoted by{}\n",
    "it is inmutable data type ie. we cannot perform addition , deletion and updation on frozenset \n"
   ]
  },
  {
   "cell_type": "code",
   "execution_count": 10,
   "id": "d109ad1f-6307-41f6-86f4-5253f9cda223",
   "metadata": {},
   "outputs": [],
   "source": [
    "list = frozenset({22,34,66,'stre','sg','sdg'})"
   ]
  },
  {
   "cell_type": "code",
   "execution_count": 11,
   "id": "e883dc82-0dad-4404-9953-63a20e72e4e2",
   "metadata": {},
   "outputs": [
    {
     "data": {
      "text/plain": [
       "frozenset({22, 34, 66, 'sdg', 'sg', 'stre'})"
      ]
     },
     "execution_count": 11,
     "metadata": {},
     "output_type": "execute_result"
    }
   ],
   "source": [
    "list"
   ]
  },
  {
   "cell_type": "code",
   "execution_count": 12,
   "id": "c52af887-cfb9-4772-9a18-70ec1573be86",
   "metadata": {},
   "outputs": [
    {
     "data": {
      "text/plain": [
       "frozenset"
      ]
     },
     "execution_count": 12,
     "metadata": {},
     "output_type": "execute_result"
    }
   ],
   "source": [
    "type(list)"
   ]
  },
  {
   "cell_type": "code",
   "execution_count": 28,
   "id": "0a34d212-9792-4075-84f7-439e3147e7b4",
   "metadata": {},
   "outputs": [],
   "source": [
    "data ={22,44,55,666,77,'fxd'}"
   ]
  },
  {
   "cell_type": "code",
   "execution_count": 29,
   "id": "b770fc95-87d7-4e67-9006-8ab824af1e6e",
   "metadata": {},
   "outputs": [
    {
     "data": {
      "text/plain": [
       "{22, 44, 55, 666, 77, 'fxd'}"
      ]
     },
     "execution_count": 29,
     "metadata": {},
     "output_type": "execute_result"
    }
   ],
   "source": [
    "data"
   ]
  },
  {
   "cell_type": "code",
   "execution_count": 30,
   "id": "e8ae1914-11b6-479b-a7d9-1dd496ecb965",
   "metadata": {},
   "outputs": [
    {
     "ename": "TypeError",
     "evalue": "'set' object is not callable",
     "output_type": "error",
     "traceback": [
      "\u001b[1;31m---------------------------------------------------------------------------\u001b[0m",
      "\u001b[1;31mTypeError\u001b[0m                                 Traceback (most recent call last)",
      "Cell \u001b[1;32mIn[30], line 1\u001b[0m\n\u001b[1;32m----> 1\u001b[0m \u001b[38;5;28mtype\u001b[39m(data)\n",
      "\u001b[1;31mTypeError\u001b[0m: 'set' object is not callable"
     ]
    }
   ],
   "source": [
    "data="
   ]
  },
  {
   "cell_type": "code",
   "execution_count": null,
   "id": "ea1e0870-3c7b-48ed-930d-8c2f9aa3dd18",
   "metadata": {},
   "outputs": [],
   "source": []
  },
  {
   "cell_type": "code",
   "execution_count": null,
   "id": "6801e607-c15d-41a7-9b50-de801996e090",
   "metadata": {},
   "outputs": [],
   "source": []
  },
  {
   "cell_type": "code",
   "execution_count": null,
   "id": "4d1cd348-d716-4760-b8cc-1bba1c14ce52",
   "metadata": {},
   "outputs": [],
   "source": []
  }
 ],
 "metadata": {
  "kernelspec": {
   "display_name": "Python 3 (ipykernel)",
   "language": "python",
   "name": "python3"
  },
  "language_info": {
   "codemirror_mode": {
    "name": "ipython",
    "version": 3
   },
   "file_extension": ".py",
   "mimetype": "text/x-python",
   "name": "python",
   "nbconvert_exporter": "python",
   "pygments_lexer": "ipython3",
   "version": "3.11.7"
  }
 },
 "nbformat": 4,
 "nbformat_minor": 5
}
