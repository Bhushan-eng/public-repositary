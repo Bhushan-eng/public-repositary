{
 "cells": [
  {
   "cell_type": "code",
   "execution_count": null,
   "id": "d971ff1e-f4c3-4726-82db-d40254a1e011",
   "metadata": {},
   "outputs": [],
   "source": [
    "data store \n",
    "files \n",
    "DB\n",
    "datawarehause\n",
    "cloud\n",
    "Hadoop\n",
    "snowflake"
   ]
  },
  {
   "cell_type": "code",
   "execution_count": null,
   "id": "b7ed7657-abc7-4942-94e9-c5924cc031f2",
   "metadata": {},
   "outputs": [],
   "source": [
    "temporary | volatile data type \n",
    "permant | persistant non volatile data type \n"
   ]
  },
  {
   "cell_type": "code",
   "execution_count": null,
   "id": "5cbddbba-ca25-451e-b591-b2edc3b10391",
   "metadata": {},
   "outputs": [],
   "source": [
    "ram --volatile\n",
    "HDD | SSD -- Permanant \n"
   ]
  },
  {
   "cell_type": "code",
   "execution_count": null,
   "id": "3d7fd92e-4320-4b1d-b19f-2186c6ebc25c",
   "metadata": {},
   "outputs": [],
   "source": [
    "small amount : files ---> csv| tsv|excel | txt| dat|pdf|flat|json| parquer|\n",
    "medium amount : DB|MYSQL| MSSQL\n",
    "Large : DB | postgrey| RDS\n",
    "VERY LARGE DATA : bigdata| hadoop|MongoDB|HDFS"
   ]
  },
  {
   "cell_type": "code",
   "execution_count": null,
   "id": "35af28f5-e6ef-4e95-9090-9dafd3ce2b84",
   "metadata": {},
   "outputs": [],
   "source": [
    "Files :\n",
    "1 text file : third party application not requird -- plan text -- redable format \n",
    "2 binary files : third party application requred - binary format -- not readable format "
   ]
  },
  {
   "cell_type": "code",
   "execution_count": null,
   "id": "9858cee1-94c7-4621-b141-f775b78d5135",
   "metadata": {},
   "outputs": [],
   "source": [
    "text files \n",
    "txt\n",
    "csv\n",
    "tsv\n",
    "log file \n",
    "binary \n",
    "pdf \n",
    "excle \n",
    "mp3\n",
    "mp4\n",
    "images \n"
   ]
  },
  {
   "cell_type": "code",
   "execution_count": null,
   "id": "efda9a98-66cc-4465-b6f7-0c270cf2b57a",
   "metadata": {},
   "outputs": [],
   "source": [
    "file : filename mode \n",
    "open () : to handle or open file in given mode"
   ]
  },
  {
   "cell_type": "code",
   "execution_count": null,
   "id": "6625a3a4-b5ed-4867-b774-b49eefa8b469",
   "metadata": {},
   "outputs": [],
   "source": [
    "open(filename/path,mode)\n",
    "\n",
    "mode \n",
    "read --r\n",
    "write--w\n",
    "append -- a \n",
    "read then write --(r+)\n",
    "write then read  (w+)\n",
    "append then read (a+)\n",
    "exclusive mode "
   ]
  },
  {
   "cell_type": "code",
   "execution_count": null,
   "id": "6ab85e1b-fd47-4273-821d-66f493c5c068",
   "metadata": {},
   "outputs": [],
   "source": [
    "read --r \n",
    "open(filename,'r')\n",
    "or\n",
    "open (filename) # default in read mode "
   ]
  },
  {
   "cell_type": "code",
   "execution_count": null,
   "id": "9dfb1e82-0571-4ee5-8305-74a661daca76",
   "metadata": {},
   "outputs": [],
   "source": [
    "read - r\n",
    "if file exist then read \n",
    "if file not then it will return FileNotFoundError \n",
    "read(): to read all content from file "
   ]
  },
  {
   "cell_type": "code",
   "execution_count": 8,
   "id": "5be1d641-cbcf-46f5-b25e-355f104bf31d",
   "metadata": {},
   "outputs": [
    {
     "ename": "UnicodeDecodeError",
     "evalue": "'charmap' codec can't decode byte 0x8d in position 639: character maps to <undefined>",
     "output_type": "error",
     "traceback": [
      "\u001b[1;31m---------------------------------------------------------------------------\u001b[0m",
      "\u001b[1;31mUnicodeDecodeError\u001b[0m                        Traceback (most recent call last)",
      "Cell \u001b[1;32mIn[8], line 2\u001b[0m\n\u001b[0;32m      1\u001b[0m fp \u001b[38;5;241m=\u001b[39m \u001b[38;5;28mopen\u001b[39m(\u001b[38;5;124m'\u001b[39m\u001b[38;5;124mE:\u001b[39m\u001b[38;5;124m\\\u001b[39m\u001b[38;5;124mProposition.xlsx\u001b[39m\u001b[38;5;124m'\u001b[39m)\n\u001b[1;32m----> 2\u001b[0m data \u001b[38;5;241m=\u001b[39m fp\u001b[38;5;241m.\u001b[39mread()\n\u001b[0;32m      3\u001b[0m \u001b[38;5;28mprint\u001b[39m (data)\n",
      "File \u001b[1;32m~\\anaconda3\\Lib\\encodings\\cp1252.py:23\u001b[0m, in \u001b[0;36mIncrementalDecoder.decode\u001b[1;34m(self, input, final)\u001b[0m\n\u001b[0;32m     22\u001b[0m \u001b[38;5;28;01mdef\u001b[39;00m \u001b[38;5;21mdecode\u001b[39m(\u001b[38;5;28mself\u001b[39m, \u001b[38;5;28minput\u001b[39m, final\u001b[38;5;241m=\u001b[39m\u001b[38;5;28;01mFalse\u001b[39;00m):\n\u001b[1;32m---> 23\u001b[0m     \u001b[38;5;28;01mreturn\u001b[39;00m codecs\u001b[38;5;241m.\u001b[39mcharmap_decode(\u001b[38;5;28minput\u001b[39m,\u001b[38;5;28mself\u001b[39m\u001b[38;5;241m.\u001b[39merrors,decoding_table)[\u001b[38;5;241m0\u001b[39m]\n",
      "\u001b[1;31mUnicodeDecodeError\u001b[0m: 'charmap' codec can't decode byte 0x8d in position 639: character maps to <undefined>"
     ]
    }
   ],
   "source": [
    "fp = open('E:\\Proposition.xlsx')\n",
    "data = fp.read()\n",
    "print (data)"
   ]
  },
  {
   "cell_type": "code",
   "execution_count": 24,
   "id": "fffa476e-7ba9-4eb1-abdc-4a4bf7a7d49e",
   "metadata": {},
   "outputs": [
    {
     "ename": "SyntaxError",
     "evalue": "(unicode error) 'unicodeescape' codec can't decode bytes in position 2-3: truncated \\UXXXXXXXX escape (2447806158.py, line 1)",
     "output_type": "error",
     "traceback": [
      "\u001b[1;36m  Cell \u001b[1;32mIn[24], line 1\u001b[1;36m\u001b[0m\n\u001b[1;33m    fp = open(\"C:\\Users\\Dell\\OneDrive\\Desktop\\dockerlink.txt\")\u001b[0m\n\u001b[1;37m                                                             ^\u001b[0m\n\u001b[1;31mSyntaxError\u001b[0m\u001b[1;31m:\u001b[0m (unicode error) 'unicodeescape' codec can't decode bytes in position 2-3: truncated \\UXXXXXXXX escape\n"
     ]
    }
   ],
   "source": [
    "fp = open(\"C:\\Users\\Dell\\OneDrive\\Desktop\\dockerlink.txt\")\n",
    "data = fp.read()\n",
    "print (data)"
   ]
  },
  {
   "cell_type": "code",
   "execution_count": 19,
   "id": "ae5c2626-db96-45a8-b85c-e9e663f455b1",
   "metadata": {},
   "outputs": [
    {
     "ename": "SyntaxError",
     "evalue": "(unicode error) 'unicodeescape' codec can't decode bytes in position 2-3: truncated \\UXXXXXXXX escape (3784331450.py, line 1)",
     "output_type": "error",
     "traceback": [
      "\u001b[1;36m  Cell \u001b[1;32mIn[19], line 1\u001b[1;36m\u001b[0m\n\u001b[1;33m    open('C:\\Users\\Dell\\OneDrive\\Desktop\\phthon data science.xlsx')\u001b[0m\n\u001b[1;37m                                                                  ^\u001b[0m\n\u001b[1;31mSyntaxError\u001b[0m\u001b[1;31m:\u001b[0m (unicode error) 'unicodeescape' codec can't decode bytes in position 2-3: truncated \\UXXXXXXXX escape\n"
     ]
    }
   ],
   "source": [
    "open('C:\\Users\\Dell\\OneDrive\\Desktop\\python data science.xlsx')"
   ]
  },
  {
   "cell_type": "code",
   "execution_count": 31,
   "id": "31dda97b-9dcd-4df8-9d4d-848e5bd46b68",
   "metadata": {},
   "outputs": [
    {
     "name": "stdout",
     "output_type": "stream",
     "text": [
      "\n"
     ]
    }
   ],
   "source": [
    "open(\"F:\\\\Deepa Resume New.docx\",encoding='UTF=8',errors='ignore')\n",
    "data = fp.read()\n",
    "print(data)"
   ]
  },
  {
   "cell_type": "code",
   "execution_count": 32,
   "id": "d49a829b-7a8b-4e68-88b6-3da2d449418f",
   "metadata": {},
   "outputs": [],
   "source": [
    "import io"
   ]
  },
  {
   "cell_type": "code",
   "execution_count": 44,
   "id": "8eae6d33-e24b-4df9-beab-a84eccbf85de",
   "metadata": {},
   "outputs": [
    {
     "ename": "UnicodeDecodeError",
     "evalue": "'utf-8' codec can't decode byte 0xad in position 22: invalid start byte",
     "output_type": "error",
     "traceback": [
      "\u001b[1;31m---------------------------------------------------------------------------\u001b[0m",
      "\u001b[1;31mUnicodeDecodeError\u001b[0m                        Traceback (most recent call last)",
      "Cell \u001b[1;32mIn[44], line 2\u001b[0m\n\u001b[0;32m      1\u001b[0m fp\u001b[38;5;241m=\u001b[39mio\u001b[38;5;241m.\u001b[39mopen(\u001b[38;5;124m\"\u001b[39m\u001b[38;5;124mF:\u001b[39m\u001b[38;5;130;01m\\\\\u001b[39;00m\u001b[38;5;124mDeepa Resume New.docx\u001b[39m\u001b[38;5;124m\"\u001b[39m,\u001b[38;5;124m'\u001b[39m\u001b[38;5;124mr\u001b[39m\u001b[38;5;124m'\u001b[39m,encoding \u001b[38;5;241m=\u001b[39m\u001b[38;5;124m'\u001b[39m\u001b[38;5;124mutf=8\u001b[39m\u001b[38;5;124m'\u001b[39m)\n\u001b[1;32m----> 2\u001b[0m data \u001b[38;5;241m=\u001b[39m fp\u001b[38;5;241m.\u001b[39mread()\n\u001b[0;32m      3\u001b[0m \u001b[38;5;28mprint\u001b[39m(data)\n",
      "File \u001b[1;32m<frozen codecs>:322\u001b[0m, in \u001b[0;36mdecode\u001b[1;34m(self, input, final)\u001b[0m\n",
      "\u001b[1;31mUnicodeDecodeError\u001b[0m: 'utf-8' codec can't decode byte 0xad in position 22: invalid start byte"
     ]
    }
   ],
   "source": [
    "fp=io.open(\"F:\\\\Deepa Resume New.docx\",'r',encoding ='utf=8')\n",
    "data = fp.read()\n",
    "print(data)"
   ]
  },
  {
   "cell_type": "code",
   "execution_count": null,
   "id": "c7c1259a-1ef8-400d-aa17-92cb6746ddc6",
   "metadata": {},
   "outputs": [],
   "source": []
  },
  {
   "cell_type": "code",
   "execution_count": null,
   "id": "eea94636-392a-4780-848d-8524aac5666f",
   "metadata": {},
   "outputs": [],
   "source": []
  }
 ],
 "metadata": {
  "kernelspec": {
   "display_name": "Python 3 (ipykernel)",
   "language": "python",
   "name": "python3"
  },
  "language_info": {
   "codemirror_mode": {
    "name": "ipython",
    "version": 3
   },
   "file_extension": ".py",
   "mimetype": "text/x-python",
   "name": "python",
   "nbconvert_exporter": "python",
   "pygments_lexer": "ipython3",
   "version": "3.11.7"
  }
 },
 "nbformat": 4,
 "nbformat_minor": 5
}
