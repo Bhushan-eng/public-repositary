{
 "cells": [
  {
   "cell_type": "code",
   "execution_count": null,
   "id": "fde83bc6-6bb0-42fe-9b56-948470d0de5f",
   "metadata": {},
   "outputs": [],
   "source": [
    "Data type in python :(Built in Data )\n",
    "1 int  - complete no  \n",
    "2 float - incomplete no \n",
    "3 str - it is collection of word or group of word \n",
    "4 bool - True / False\n",
    "5 noon - empty data \n",
    "6 complex -- "
   ]
  },
  {
   "cell_type": "code",
   "execution_count": 4,
   "id": "afa51ca6-ccda-4937-8f40-3b04d07bc14d",
   "metadata": {},
   "outputs": [],
   "source": [
    "emp_code =[100,200,300.400]"
   ]
  },
  {
   "cell_type": "code",
   "execution_count": 5,
   "id": "d36d3e75-0050-4801-ba0e-50927e0c427a",
   "metadata": {},
   "outputs": [
    {
     "data": {
      "text/plain": [
       "list"
      ]
     },
     "execution_count": 5,
     "metadata": {},
     "output_type": "execute_result"
    }
   ],
   "source": [
    "type(emp_code)"
   ]
  },
  {
   "cell_type": "code",
   "execution_count": 16,
   "id": "8fd76c11-4be4-4522-8696-e25edc7fa539",
   "metadata": {},
   "outputs": [],
   "source": [
    "age ='25.5'"
   ]
  },
  {
   "cell_type": "code",
   "execution_count": 18,
   "id": "ab66c6ed-0bdf-4ca5-a1b5-1459850c0b28",
   "metadata": {},
   "outputs": [
    {
     "ename": "SyntaxError",
     "evalue": "invalid syntax (3341187936.py, line 1)",
     "output_type": "error",
     "traceback": [
      "\u001b[1;36m  Cell \u001b[1;32mIn[18], line 1\u001b[1;36m\u001b[0m\n\u001b[1;33m    type'age'\u001b[0m\n\u001b[1;37m        ^\u001b[0m\n\u001b[1;31mSyntaxError\u001b[0m\u001b[1;31m:\u001b[0m invalid syntax\n"
     ]
    }
   ],
   "source": [
    "type'age'"
   ]
  },
  {
   "cell_type": "code",
   "execution_count": 19,
   "id": "fcc93fff-0842-44c6-8c7f-722d4f059b8b",
   "metadata": {},
   "outputs": [
    {
     "data": {
      "text/plain": [
       "str"
      ]
     },
     "execution_count": 19,
     "metadata": {},
     "output_type": "execute_result"
    }
   ],
   "source": [
    "type(age)"
   ]
  },
  {
   "cell_type": "code",
   "execution_count": 22,
   "id": "41cb2d0f-bab3-4b52-be50-1065ded0079d",
   "metadata": {},
   "outputs": [],
   "source": [
    "b = 22.4"
   ]
  },
  {
   "cell_type": "code",
   "execution_count": 24,
   "id": "b53a159d-c65c-4f73-9ce8-612256463521",
   "metadata": {},
   "outputs": [
    {
     "data": {
      "text/plain": [
       "str"
      ]
     },
     "execution_count": 24,
     "metadata": {},
     "output_type": "execute_result"
    }
   ],
   "source": [
    "type(b)"
   ]
  },
  {
   "cell_type": "code",
   "execution_count": 25,
   "id": "8b0d373f-b182-4614-bd8a-5559a2d43afa",
   "metadata": {},
   "outputs": [],
   "source": [
    "t =\" data\""
   ]
  },
  {
   "cell_type": "code",
   "execution_count": 26,
   "id": "ead7fb23-e9c9-42e3-ae14-3289a1880899",
   "metadata": {},
   "outputs": [
    {
     "data": {
      "text/plain": [
       "str"
      ]
     },
     "execution_count": 26,
     "metadata": {},
     "output_type": "execute_result"
    }
   ],
   "source": [
    "type(t)"
   ]
  },
  {
   "cell_type": "code",
   "execution_count": 32,
   "id": "1a0d4fcc-55f3-47dc-b7c6-981b02d1aa84",
   "metadata": {},
   "outputs": [],
   "source": [
    "test = False"
   ]
  },
  {
   "cell_type": "code",
   "execution_count": 33,
   "id": "29112064-d218-4314-840f-5e6dde97b321",
   "metadata": {},
   "outputs": [
    {
     "data": {
      "text/plain": [
       "bool"
      ]
     },
     "execution_count": 33,
     "metadata": {},
     "output_type": "execute_result"
    }
   ],
   "source": [
    "type(test)"
   ]
  },
  {
   "cell_type": "code",
   "execution_count": 36,
   "id": "f2b13b08-9fa8-40ac-8807-929529957d56",
   "metadata": {},
   "outputs": [],
   "source": [
    "t = None"
   ]
  },
  {
   "cell_type": "code",
   "execution_count": 37,
   "id": "35f3978a-9d7c-4ff3-a570-c4ec7ee803ca",
   "metadata": {},
   "outputs": [
    {
     "data": {
      "text/plain": [
       "NoneType"
      ]
     },
     "execution_count": 37,
     "metadata": {},
     "output_type": "execute_result"
    }
   ],
   "source": [
    "type(t)"
   ]
  },
  {
   "cell_type": "code",
   "execution_count": 38,
   "id": "bd17f424-0275-47a5-b86f-0679db3c8f29",
   "metadata": {},
   "outputs": [
    {
     "ename": "SyntaxError",
     "evalue": "invalid syntax (3865367609.py, line 1)",
     "output_type": "error",
     "traceback": [
      "\u001b[1;36m  Cell \u001b[1;32mIn[38], line 1\u001b[1;36m\u001b[0m\n\u001b[1;33m    data strcture\u001b[0m\n\u001b[1;37m         ^\u001b[0m\n\u001b[1;31mSyntaxError\u001b[0m\u001b[1;31m:\u001b[0m invalid syntax\n"
     ]
    }
   ],
   "source": [
    "data strcture \n",
    "strcturing data into perticular format is data structure \n",
    "1 list \n",
    "2 tuple \n",
    "3 str\n",
    "4 dic\n",
    "5 set \n",
    "6 frozenset \n"
   ]
  },
  {
   "cell_type": "code",
   "execution_count": 39,
   "id": "2eac87dc-aefd-4a16-8b40-333fadb385a8",
   "metadata": {},
   "outputs": [
    {
     "ename": "SyntaxError",
     "evalue": "invalid syntax (1388197540.py, line 1)",
     "output_type": "error",
     "traceback": [
      "\u001b[1;36m  Cell \u001b[1;32mIn[39], line 1\u001b[1;36m\u001b[0m\n\u001b[1;33m    1 list\u001b[0m\n\u001b[1;37m      ^\u001b[0m\n\u001b[1;31mSyntaxError\u001b[0m\u001b[1;31m:\u001b[0m invalid syntax\n"
     ]
    }
   ],
   "source": [
    "1 list\n",
    "it is collection of data type / element \n",
    "similar element is homogenious \n",
    "diffrent element is hetrogenious \n",
    "it is denoted by []\n",
    "list is mutable data type i.e changable data st. "
   ]
  },
  {
   "cell_type": "code",
   "execution_count": 45,
   "id": "943a25c5-2eb7-4078-ad06-70de102a3e3c",
   "metadata": {},
   "outputs": [],
   "source": [
    "emp_no =[100,200,300,400]"
   ]
  },
  {
   "cell_type": "code",
   "execution_count": 47,
   "id": "9fe45136-c63e-4f07-91da-b767677d7964",
   "metadata": {},
   "outputs": [
    {
     "data": {
      "text/plain": [
       "[100, 200, 300, 400]"
      ]
     },
     "execution_count": 47,
     "metadata": {},
     "output_type": "execute_result"
    }
   ],
   "source": [
    "emp_no"
   ]
  },
  {
   "cell_type": "code",
   "execution_count": 48,
   "id": "13e69183-e3e2-4c37-b2ed-9999c7d5e78d",
   "metadata": {},
   "outputs": [
    {
     "data": {
      "text/plain": [
       "list"
      ]
     },
     "execution_count": 48,
     "metadata": {},
     "output_type": "execute_result"
    }
   ],
   "source": [
    "type(emp_no)"
   ]
  },
  {
   "cell_type": "code",
   "execution_count": null,
   "id": "399925a4-f3c8-4881-8ad2-a655c8c0e899",
   "metadata": {},
   "outputs": [],
   "source": [
    "mutable / changable/unhasheble \n",
    "insert , delete, update opration perform in list ds \n",
    "\n",
    "mutable DS \n",
    "1 List\n",
    "2 set \n",
    "3 dict \n",
    "\n",
    "inmutable DS\n",
    "\n",
    "1 tuple \n",
    "2 frozenset \n",
    "3 str "
   ]
  },
  {
   "cell_type": "code",
   "execution_count": null,
   "id": "2d5135e4-7a54-4f3d-9596-ae7060797efa",
   "metadata": {},
   "outputs": [],
   "source": [
    "List \n",
    "element of list can be assessed by its index no \n",
    "indexing \n",
    "forword/positive \n",
    "start with 0 end len-1 \n",
    "reverse / negative \n",
    "start =-1 end -len\n",
    "Opration on list "
   ]
  },
  {
   "cell_type": "code",
   "execution_count": 3,
   "id": "9f262dde-b836-455d-b97d-ebd17b90a63d",
   "metadata": {},
   "outputs": [],
   "source": [
    "py_element = [22,54,33,26,78,99,22,15]"
   ]
  },
  {
   "cell_type": "code",
   "execution_count": 4,
   "id": "7e5bd80a-13cb-4417-b738-95fdc68f5313",
   "metadata": {},
   "outputs": [
    {
     "data": {
      "text/plain": [
       "[22, 54, 33, 26, 78, 99, 22, 15]"
      ]
     },
     "execution_count": 4,
     "metadata": {},
     "output_type": "execute_result"
    }
   ],
   "source": [
    "py_element"
   ]
  },
  {
   "cell_type": "code",
   "execution_count": 5,
   "id": "fb1cf189-fc82-4d6e-9d6c-0039ae0a213a",
   "metadata": {},
   "outputs": [
    {
     "data": {
      "text/plain": [
       "list"
      ]
     },
     "execution_count": 5,
     "metadata": {},
     "output_type": "execute_result"
    }
   ],
   "source": [
    "type(py_element)"
   ]
  },
  {
   "cell_type": "code",
   "execution_count": 9,
   "id": "cd1de6f7-e23e-48fb-ace2-a14994f42e49",
   "metadata": {},
   "outputs": [
    {
     "data": {
      "text/plain": [
       "78"
      ]
     },
     "execution_count": 9,
     "metadata": {},
     "output_type": "execute_result"
    }
   ],
   "source": [
    "py_element[4]"
   ]
  },
  {
   "cell_type": "code",
   "execution_count": 11,
   "id": "51a89fc6-2979-4e61-830d-4abaf9d9c6f1",
   "metadata": {},
   "outputs": [
    {
     "data": {
      "text/plain": [
       "33"
      ]
     },
     "execution_count": 11,
     "metadata": {},
     "output_type": "execute_result"
    }
   ],
   "source": [
    "py_element[2]"
   ]
  },
  {
   "cell_type": "code",
   "execution_count": 12,
   "id": "6a6e7537-5146-4ea4-909b-5a94246f98c4",
   "metadata": {},
   "outputs": [],
   "source": [
    "empid= [10.22,44,33,55,66.33,44,22,6,90]"
   ]
  },
  {
   "cell_type": "code",
   "execution_count": 13,
   "id": "a188b577-68e7-40dd-a7ed-d209c704208b",
   "metadata": {},
   "outputs": [
    {
     "data": {
      "text/plain": [
       "[10.22, 44, 33, 55, 66.33, 44, 22, 6, 90]"
      ]
     },
     "execution_count": 13,
     "metadata": {},
     "output_type": "execute_result"
    }
   ],
   "source": [
    "empid"
   ]
  },
  {
   "cell_type": "code",
   "execution_count": 14,
   "id": "6616ced7-2c07-4234-8ca0-4c36cdbeb7de",
   "metadata": {},
   "outputs": [
    {
     "ename": "IndexError",
     "evalue": "list index out of range",
     "output_type": "error",
     "traceback": [
      "\u001b[1;31m---------------------------------------------------------------------------\u001b[0m",
      "\u001b[1;31mIndexError\u001b[0m                                Traceback (most recent call last)",
      "Cell \u001b[1;32mIn[14], line 1\u001b[0m\n\u001b[1;32m----> 1\u001b[0m empid[\u001b[38;5;241m-\u001b[39m\u001b[38;5;241m10\u001b[39m]\n",
      "\u001b[1;31mIndexError\u001b[0m: list index out of range"
     ]
    }
   ],
   "source": [
    "empid[-10]"
   ]
  },
  {
   "cell_type": "code",
   "execution_count": 15,
   "id": "f64d0aae-b1f7-4087-bf26-148878287d6b",
   "metadata": {},
   "outputs": [
    {
     "ename": "IndexError",
     "evalue": "list index out of range",
     "output_type": "error",
     "traceback": [
      "\u001b[1;31m---------------------------------------------------------------------------\u001b[0m",
      "\u001b[1;31mIndexError\u001b[0m                                Traceback (most recent call last)",
      "Cell \u001b[1;32mIn[15], line 1\u001b[0m\n\u001b[1;32m----> 1\u001b[0m empid[\u001b[38;5;241m12\u001b[39m]\n",
      "\u001b[1;31mIndexError\u001b[0m: list index out of range"
     ]
    }
   ],
   "source": [
    "empid[12]"
   ]
  },
  {
   "cell_type": "code",
   "execution_count": 16,
   "id": "67819153-9b97-4d58-97f1-b896882aeb83",
   "metadata": {},
   "outputs": [
    {
     "ename": "NameError",
     "evalue": "name 'lenth' is not defined",
     "output_type": "error",
     "traceback": [
      "\u001b[1;31m---------------------------------------------------------------------------\u001b[0m",
      "\u001b[1;31mNameError\u001b[0m                                 Traceback (most recent call last)",
      "Cell \u001b[1;32mIn[16], line 1\u001b[0m\n\u001b[1;32m----> 1\u001b[0m lenth(empid)\n",
      "\u001b[1;31mNameError\u001b[0m: name 'lenth' is not defined"
     ]
    }
   ],
   "source": [
    "lenth(empid)"
   ]
  },
  {
   "cell_type": "code",
   "execution_count": 17,
   "id": "af3d5e92-fc6e-4f35-b1ac-3c7e7c8e4c0b",
   "metadata": {},
   "outputs": [
    {
     "ename": "NameError",
     "evalue": "name 'lenght' is not defined",
     "output_type": "error",
     "traceback": [
      "\u001b[1;31m---------------------------------------------------------------------------\u001b[0m",
      "\u001b[1;31mNameError\u001b[0m                                 Traceback (most recent call last)",
      "Cell \u001b[1;32mIn[17], line 1\u001b[0m\n\u001b[1;32m----> 1\u001b[0m empid(lenght)\n",
      "\u001b[1;31mNameError\u001b[0m: name 'lenght' is not defined"
     ]
    }
   ],
   "source": [
    "empid(lenght)"
   ]
  },
  {
   "cell_type": "code",
   "execution_count": 18,
   "id": "981cde11-ab71-419e-b5ac-64ee280ced5a",
   "metadata": {},
   "outputs": [
    {
     "data": {
      "text/plain": [
       "9"
      ]
     },
     "execution_count": 18,
     "metadata": {},
     "output_type": "execute_result"
    }
   ],
   "source": [
    "len(empid)"
   ]
  },
  {
   "cell_type": "code",
   "execution_count": 19,
   "id": "7c64b1f6-dcea-4785-9e7b-b2b56d2b4cb2",
   "metadata": {},
   "outputs": [
    {
     "data": {
      "text/plain": [
       "[10.22, 44, 33, 55, 66.33, 44, 22, 6, 90]"
      ]
     },
     "execution_count": 19,
     "metadata": {},
     "output_type": "execute_result"
    }
   ],
   "source": [
    "empid"
   ]
  },
  {
   "cell_type": "code",
   "execution_count": 22,
   "id": "c64ac8b9-c171-42b1-bd0a-079195a837a7",
   "metadata": {},
   "outputs": [
    {
     "ename": "NameError",
     "evalue": "name 'insert' is not defined",
     "output_type": "error",
     "traceback": [
      "\u001b[1;31m---------------------------------------------------------------------------\u001b[0m",
      "\u001b[1;31mNameError\u001b[0m                                 Traceback (most recent call last)",
      "Cell \u001b[1;32mIn[22], line 1\u001b[0m\n\u001b[1;32m----> 1\u001b[0m insert(\u001b[38;5;241m0\u001b[39m,\u001b[38;5;241m12\u001b[39m)\n",
      "\u001b[1;31mNameError\u001b[0m: name 'insert' is not defined"
     ]
    }
   ],
   "source": [
    "insert(0,12)"
   ]
  },
  {
   "cell_type": "code",
   "execution_count": 25,
   "id": "6ed8399e-7e94-413a-86e9-d70e136894c9",
   "metadata": {},
   "outputs": [],
   "source": [
    "empid.insert(0,'12')"
   ]
  },
  {
   "cell_type": "code",
   "execution_count": 26,
   "id": "06be0954-52f4-4848-ad79-7172d0445967",
   "metadata": {},
   "outputs": [
    {
     "data": {
      "text/plain": [
       "['12', 12, 12, 10.22, 44, 33, 55, 66.33, 44, 22, 6, 90]"
      ]
     },
     "execution_count": 26,
     "metadata": {},
     "output_type": "execute_result"
    }
   ],
   "source": [
    "empid"
   ]
  },
  {
   "cell_type": "code",
   "execution_count": 27,
   "id": "7d803ab9-6afb-4256-a420-35fbe9f35a2a",
   "metadata": {},
   "outputs": [],
   "source": [
    "empid.insert(0,12)"
   ]
  },
  {
   "cell_type": "code",
   "execution_count": 28,
   "id": "681364eb-6a04-4d37-add8-c3b98c193ba1",
   "metadata": {},
   "outputs": [
    {
     "data": {
      "text/plain": [
       "[12, '12', 12, 12, 10.22, 44, 33, 55, 66.33, 44, 22, 6, 90]"
      ]
     },
     "execution_count": 28,
     "metadata": {},
     "output_type": "execute_result"
    }
   ],
   "source": [
    "empid"
   ]
  },
  {
   "cell_type": "code",
   "execution_count": 31,
   "id": "a1b959ba-300b-4f12-9b19-a57ec29b5772",
   "metadata": {},
   "outputs": [],
   "source": [
    "power=['data','set','appple','thing']"
   ]
  },
  {
   "cell_type": "code",
   "execution_count": 34,
   "id": "3e0dcf56-e973-4257-bf22-b5fe38d26e4b",
   "metadata": {},
   "outputs": [],
   "source": [
    "power.insert(0,10)"
   ]
  },
  {
   "cell_type": "code",
   "execution_count": 36,
   "id": "8b3048ca-f3e8-4098-8670-6162e326dc7c",
   "metadata": {},
   "outputs": [
    {
     "data": {
      "text/plain": [
       "[10, 'data', 'set', 'appple', 10, 'thing']"
      ]
     },
     "execution_count": 36,
     "metadata": {},
     "output_type": "execute_result"
    }
   ],
   "source": [
    "power"
   ]
  },
  {
   "cell_type": "code",
   "execution_count": 37,
   "id": "ed4194e8-db20-44f9-b2c4-a368901cc3b5",
   "metadata": {},
   "outputs": [],
   "source": [
    "power.append(22)"
   ]
  },
  {
   "cell_type": "code",
   "execution_count": 38,
   "id": "4c61bbff-2d31-4326-8b54-e689f650e783",
   "metadata": {},
   "outputs": [
    {
     "data": {
      "text/plain": [
       "[10, 'data', 'set', 'appple', 10, 'thing', 22]"
      ]
     },
     "execution_count": 38,
     "metadata": {},
     "output_type": "execute_result"
    }
   ],
   "source": [
    "power"
   ]
  },
  {
   "cell_type": "code",
   "execution_count": 39,
   "id": "d42be579-72c9-4605-8f99-bb28f2c82540",
   "metadata": {},
   "outputs": [
    {
     "data": {
      "text/plain": [
       "[10, 'data', 'set', 'appple', 10, 'thing', 22]"
      ]
     },
     "execution_count": 39,
     "metadata": {},
     "output_type": "execute_result"
    }
   ],
   "source": [
    "power"
   ]
  },
  {
   "cell_type": "code",
   "execution_count": 44,
   "id": "08c40c5e-f79e-4a99-9f52-5c94a8f008cf",
   "metadata": {},
   "outputs": [
    {
     "ename": "AttributeError",
     "evalue": "'list' object has no attribute 'extent'",
     "output_type": "error",
     "traceback": [
      "\u001b[1;31m---------------------------------------------------------------------------\u001b[0m",
      "\u001b[1;31mAttributeError\u001b[0m                            Traceback (most recent call last)",
      "Cell \u001b[1;32mIn[44], line 1\u001b[0m\n\u001b[1;32m----> 1\u001b[0m power\u001b[38;5;241m.\u001b[39mextent[\u001b[38;5;241m10\u001b[39m,\u001b[38;5;241m22\u001b[39m,\u001b[38;5;241m33\u001b[39m,\u001b[38;5;241m40\u001b[39m]\n",
      "\u001b[1;31mAttributeError\u001b[0m: 'list' object has no attribute 'extent'"
     ]
    }
   ],
   "source": [
    "power.extent[10,22,33,40]"
   ]
  },
  {
   "cell_type": "code",
   "execution_count": null,
   "id": "bfdbd5d5-ff2b-487e-9046-9522b7051dec",
   "metadata": {},
   "outputs": [],
   "source": []
  },
  {
   "cell_type": "code",
   "execution_count": 47,
   "id": "a79c528f-0f56-435e-8e1d-7d73aab72950",
   "metadata": {},
   "outputs": [],
   "source": [
    "power.extend([10,23,33])"
   ]
  },
  {
   "cell_type": "code",
   "execution_count": 48,
   "id": "9a5a1688-008a-4e2f-b478-f393b7de9451",
   "metadata": {},
   "outputs": [
    {
     "data": {
      "text/plain": [
       "[10, 'data', 'set', 'appple', 10, 'thing', 22, 10, 23, 33]"
      ]
     },
     "execution_count": 48,
     "metadata": {},
     "output_type": "execute_result"
    }
   ],
   "source": [
    "power"
   ]
  },
  {
   "cell_type": "code",
   "execution_count": 49,
   "id": "1cc41467-a193-4126-8c17-75c0e2d66b04",
   "metadata": {},
   "outputs": [
    {
     "ename": "SyntaxError",
     "evalue": "invalid syntax (1418900547.py, line 1)",
     "output_type": "error",
     "traceback": [
      "\u001b[1;36m  Cell \u001b[1;32mIn[49], line 1\u001b[1;36m\u001b[0m\n\u001b[1;33m    List opration\u001b[0m\n\u001b[1;37m         ^\u001b[0m\n\u001b[1;31mSyntaxError\u001b[0m\u001b[1;31m:\u001b[0m invalid syntax\n"
     ]
    }
   ],
   "source": [
    "List opration \n",
    "insert, delete, update\n",
    "insertion method\n",
    "1 insert- insert a single element at a given location using indexing\n",
    " eg identifier.insert(index no,adding element)\n",
    "2 append.  - insert a single element at last \n",
    "eg. identifier.append()\n",
    "3 extend- insert multiple element at last \n",
    "eg identifier.extend([])"
   ]
  },
  {
   "cell_type": "code",
   "execution_count": null,
   "id": "41c29292-eebb-463f-aa63-adbf78f27bac",
   "metadata": {},
   "outputs": [],
   "source": []
  },
  {
   "cell_type": "code",
   "execution_count": 51,
   "id": "7ad53933-2084-4a13-8cc6-e580f5c86d39",
   "metadata": {},
   "outputs": [
    {
     "data": {
      "text/plain": [
       "[10, 'data', 'set', 'appple', 10, 'thing', 22, 10, 23, 33]"
      ]
     },
     "execution_count": 51,
     "metadata": {},
     "output_type": "execute_result"
    }
   ],
   "source": [
    "power"
   ]
  },
  {
   "cell_type": "code",
   "execution_count": 52,
   "id": "da427cba-fa73-4932-a449-54df7d81b304",
   "metadata": {},
   "outputs": [
    {
     "data": {
      "text/plain": [
       "list"
      ]
     },
     "execution_count": 52,
     "metadata": {},
     "output_type": "execute_result"
    }
   ],
   "source": [
    "type(power)"
   ]
  },
  {
   "cell_type": "code",
   "execution_count": 53,
   "id": "c475762e-c60e-41d3-9416-6d6098eeb677",
   "metadata": {},
   "outputs": [],
   "source": [
    "a1=12"
   ]
  },
  {
   "cell_type": "code",
   "execution_count": 54,
   "id": "621b4e00-b6ba-4d47-bb1b-b0f2315da285",
   "metadata": {},
   "outputs": [],
   "source": [
    "b1=22"
   ]
  },
  {
   "cell_type": "code",
   "execution_count": 56,
   "id": "f13a97a9-9b8e-45b2-8d62-09147635f82b",
   "metadata": {},
   "outputs": [],
   "source": [
    "A=a1+b1"
   ]
  },
  {
   "cell_type": "code",
   "execution_count": 57,
   "id": "79b280d4-c423-406f-be16-f2a0792a3e29",
   "metadata": {},
   "outputs": [
    {
     "data": {
      "text/plain": [
       "34"
      ]
     },
     "execution_count": 57,
     "metadata": {},
     "output_type": "execute_result"
    }
   ],
   "source": [
    "A"
   ]
  },
  {
   "cell_type": "code",
   "execution_count": 61,
   "id": "e116e52a-0c57-4987-a6fb-c4596abdc85d",
   "metadata": {},
   "outputs": [],
   "source": [
    "t1 = [12,33,45,55]"
   ]
  },
  {
   "cell_type": "code",
   "execution_count": 62,
   "id": "6c4ce319-8116-409b-8bae-62ffc213a414",
   "metadata": {},
   "outputs": [
    {
     "data": {
      "text/plain": [
       "[12, 33, 45, 55]"
      ]
     },
     "execution_count": 62,
     "metadata": {},
     "output_type": "execute_result"
    }
   ],
   "source": [
    "t1"
   ]
  },
  {
   "cell_type": "code",
   "execution_count": 63,
   "id": "0f487aab-e09f-4437-87f5-9a400311d05e",
   "metadata": {},
   "outputs": [],
   "source": [
    "t1.append([12,22,43,45])"
   ]
  },
  {
   "cell_type": "code",
   "execution_count": 64,
   "id": "cd1b8512-2a84-416f-b5a8-4e920d25883d",
   "metadata": {},
   "outputs": [
    {
     "data": {
      "text/plain": [
       "[12, 33, 45, 55, [12, 22, 43, 45]]"
      ]
     },
     "execution_count": 64,
     "metadata": {},
     "output_type": "execute_result"
    }
   ],
   "source": [
    "t1"
   ]
  },
  {
   "cell_type": "code",
   "execution_count": 69,
   "id": "f33d2e5c-3938-421d-a1b2-0ae3af09de6a",
   "metadata": {},
   "outputs": [
    {
     "data": {
      "text/plain": [
       "45"
      ]
     },
     "execution_count": 69,
     "metadata": {},
     "output_type": "execute_result"
    }
   ],
   "source": [
    "t1[4][3]"
   ]
  },
  {
   "cell_type": "code",
   "execution_count": 70,
   "id": "16e6ed43-b768-463e-9d5f-31fb83578289",
   "metadata": {},
   "outputs": [
    {
     "ename": "SyntaxError",
     "evalue": "invalid syntax (2823502653.py, line 1)",
     "output_type": "error",
     "traceback": [
      "\u001b[1;36m  Cell \u001b[1;32mIn[70], line 1\u001b[1;36m\u001b[0m\n\u001b[1;33m    2 Deletion\u001b[0m\n\u001b[1;37m      ^\u001b[0m\n\u001b[1;31mSyntaxError\u001b[0m\u001b[1;31m:\u001b[0m invalid syntax\n"
     ]
    }
   ],
   "source": [
    "2 Deletion \n",
    "1 remove single element from the list\n",
    "2 pop  remove at the end\n",
    "3 clere- clear all data "
   ]
  },
  {
   "cell_type": "code",
   "execution_count": 72,
   "id": "bec2c80c-141b-4b88-9aed-3aebf110cac9",
   "metadata": {},
   "outputs": [
    {
     "data": {
      "text/plain": [
       "[12, 33, 45, 55, [12, 22, 43, 45]]"
      ]
     },
     "execution_count": 72,
     "metadata": {},
     "output_type": "execute_result"
    }
   ],
   "source": [
    "t1"
   ]
  },
  {
   "cell_type": "code",
   "execution_count": 74,
   "id": "2826ec61-72b3-45c9-a4a4-53c78364c271",
   "metadata": {},
   "outputs": [],
   "source": [
    "t1.remove(12)"
   ]
  },
  {
   "cell_type": "code",
   "execution_count": 75,
   "id": "359ea6e6-5753-4116-9455-c7a7da2f310b",
   "metadata": {},
   "outputs": [
    {
     "data": {
      "text/plain": [
       "[33, 45, 55, [12, 22, 43, 45]]"
      ]
     },
     "execution_count": 75,
     "metadata": {},
     "output_type": "execute_result"
    }
   ],
   "source": [
    "t1"
   ]
  },
  {
   "cell_type": "code",
   "execution_count": 76,
   "id": "e21fd60e-31e7-4ddd-9670-d273f890893d",
   "metadata": {},
   "outputs": [
    {
     "data": {
      "text/plain": [
       "[33, 45, 55, [12, 22, 43, 45]]"
      ]
     },
     "execution_count": 76,
     "metadata": {},
     "output_type": "execute_result"
    }
   ],
   "source": [
    "t1"
   ]
  },
  {
   "cell_type": "code",
   "execution_count": 77,
   "id": "966b68cd-c83a-4f98-89fc-2e8e3a2d4c19",
   "metadata": {},
   "outputs": [
    {
     "data": {
      "text/plain": [
       "[12, 22, 43, 45]"
      ]
     },
     "execution_count": 77,
     "metadata": {},
     "output_type": "execute_result"
    }
   ],
   "source": [
    "t1.pop()"
   ]
  },
  {
   "cell_type": "code",
   "execution_count": 78,
   "id": "806274e6-d68b-4c7c-b82d-520e1d06bd9a",
   "metadata": {},
   "outputs": [
    {
     "data": {
      "text/plain": [
       "[33, 45, 55]"
      ]
     },
     "execution_count": 78,
     "metadata": {},
     "output_type": "execute_result"
    }
   ],
   "source": [
    "t1"
   ]
  },
  {
   "cell_type": "code",
   "execution_count": 2,
   "id": "357452ef-7cb7-4813-a42e-386835fe21eb",
   "metadata": {},
   "outputs": [],
   "source": [
    "b1= [0,2,2,22,34,'data','top']"
   ]
  },
  {
   "cell_type": "code",
   "execution_count": 6,
   "id": "b0b6f761-5ad2-42de-9c4f-509a1431e6c3",
   "metadata": {},
   "outputs": [
    {
     "data": {
      "text/plain": [
       "[0, 2, 2, 22, 34, 'data', 'top']"
      ]
     },
     "execution_count": 6,
     "metadata": {},
     "output_type": "execute_result"
    }
   ],
   "source": [
    "b1"
   ]
  },
  {
   "cell_type": "code",
   "execution_count": 7,
   "id": "832f669c-d307-4adb-ba4e-5763bcce67dc",
   "metadata": {},
   "outputs": [
    {
     "data": {
      "text/plain": [
       "[0, 2, 2, 22, 34, 'data', 'top']"
      ]
     },
     "execution_count": 7,
     "metadata": {},
     "output_type": "execute_result"
    }
   ],
   "source": [
    "b1"
   ]
  },
  {
   "cell_type": "code",
   "execution_count": 9,
   "id": "d40f4c5f-c724-420b-acc7-636b066a2148",
   "metadata": {},
   "outputs": [
    {
     "data": {
      "text/plain": [
       "2"
      ]
     },
     "execution_count": 9,
     "metadata": {},
     "output_type": "execute_result"
    }
   ],
   "source": [
    "b1[1]"
   ]
  },
  {
   "cell_type": "code",
   "execution_count": 13,
   "id": "2514c00e-ea36-45be-8a1e-7559fd9e0e9e",
   "metadata": {},
   "outputs": [],
   "source": [
    "b1.insert(3,33)"
   ]
  },
  {
   "cell_type": "code",
   "execution_count": 14,
   "id": "d27714b0-3030-4fba-99dc-63e0df5162e8",
   "metadata": {},
   "outputs": [
    {
     "data": {
      "text/plain": [
       "[0, 2, 2, 33, 22, 34, 'data', 'top']"
      ]
     },
     "execution_count": 14,
     "metadata": {},
     "output_type": "execute_result"
    }
   ],
   "source": [
    "b1"
   ]
  },
  {
   "cell_type": "code",
   "execution_count": 15,
   "id": "d53dba20-7f35-4022-8875-1b9fec1d8b6c",
   "metadata": {},
   "outputs": [],
   "source": [
    "b1.append('data')"
   ]
  },
  {
   "cell_type": "code",
   "execution_count": 16,
   "id": "c31dc4ce-3a46-4fb3-bae3-5444e6210b7f",
   "metadata": {},
   "outputs": [
    {
     "data": {
      "text/plain": [
       "[0, 2, 2, 33, 22, 34, 'data', 'top', 'data']"
      ]
     },
     "execution_count": 16,
     "metadata": {},
     "output_type": "execute_result"
    }
   ],
   "source": [
    "b1"
   ]
  },
  {
   "cell_type": "code",
   "execution_count": 18,
   "id": "65ae19bc-722a-47ff-9f18-afedea6ca34b",
   "metadata": {},
   "outputs": [],
   "source": [
    "b1.extend([10,22])"
   ]
  },
  {
   "cell_type": "code",
   "execution_count": 19,
   "id": "a1eb3b4b-07ce-45ce-8e88-7ae0b53d3af7",
   "metadata": {},
   "outputs": [
    {
     "data": {
      "text/plain": [
       "[0, 2, 2, 33, 22, 34, 'data', 'top', 'data', 10, 22]"
      ]
     },
     "execution_count": 19,
     "metadata": {},
     "output_type": "execute_result"
    }
   ],
   "source": [
    "b1"
   ]
  },
  {
   "cell_type": "code",
   "execution_count": 22,
   "id": "95038e25-eb64-4506-a500-6e186aa43b5e",
   "metadata": {},
   "outputs": [
    {
     "data": {
      "text/plain": [
       "22"
      ]
     },
     "execution_count": 22,
     "metadata": {},
     "output_type": "execute_result"
    }
   ],
   "source": [
    "b1[-1]"
   ]
  },
  {
   "cell_type": "code",
   "execution_count": 24,
   "id": "92c75bb0-a833-4c5b-8901-85b3cd516514",
   "metadata": {},
   "outputs": [],
   "source": [
    "b1.remove('data')"
   ]
  },
  {
   "cell_type": "code",
   "execution_count": 25,
   "id": "8efc1b58-b23d-4362-b020-6f34129421e5",
   "metadata": {},
   "outputs": [
    {
     "data": {
      "text/plain": [
       "[0, 2, 2, 33, 22, 34, 'top', 'data', 10, 22]"
      ]
     },
     "execution_count": 25,
     "metadata": {},
     "output_type": "execute_result"
    }
   ],
   "source": [
    "b1"
   ]
  },
  {
   "cell_type": "code",
   "execution_count": 26,
   "id": "c459579e-1fde-43dd-a208-ca27b123f2ac",
   "metadata": {},
   "outputs": [
    {
     "data": {
      "text/plain": [
       "22"
      ]
     },
     "execution_count": 26,
     "metadata": {},
     "output_type": "execute_result"
    }
   ],
   "source": [
    "b1.pop()"
   ]
  },
  {
   "cell_type": "code",
   "execution_count": 27,
   "id": "149c8c08-44fd-4c34-b47e-e7a2b9eb0678",
   "metadata": {},
   "outputs": [
    {
     "data": {
      "text/plain": [
       "[0, 2, 2, 33, 22, 34, 'top', 'data', 10]"
      ]
     },
     "execution_count": 27,
     "metadata": {},
     "output_type": "execute_result"
    }
   ],
   "source": [
    "b1"
   ]
  },
  {
   "cell_type": "code",
   "execution_count": 30,
   "id": "9811ad72-ff69-4c15-a572-97a3a67790d7",
   "metadata": {},
   "outputs": [
    {
     "data": {
      "text/plain": [
       "<function list.clear()>"
      ]
     },
     "execution_count": 30,
     "metadata": {},
     "output_type": "execute_result"
    }
   ],
   "source": [
    "b1.clear"
   ]
  },
  {
   "cell_type": "code",
   "execution_count": 31,
   "id": "be1f0055-93da-40ce-861c-d2722aeb9189",
   "metadata": {},
   "outputs": [
    {
     "data": {
      "text/plain": [
       "[0, 2, 2, 33, 22, 34, 'top', 'data', 10]"
      ]
     },
     "execution_count": 31,
     "metadata": {},
     "output_type": "execute_result"
    }
   ],
   "source": [
    "b1"
   ]
  },
  {
   "cell_type": "code",
   "execution_count": 32,
   "id": "7f2ad444-0f48-41c3-835b-9fd11c5286ae",
   "metadata": {},
   "outputs": [
    {
     "data": {
      "text/plain": [
       "[0, 2, 2, 33, 22, 34, 'top', 'data', 10]"
      ]
     },
     "execution_count": 32,
     "metadata": {},
     "output_type": "execute_result"
    }
   ],
   "source": [
    "b1"
   ]
  },
  {
   "cell_type": "markdown",
   "id": "41cd32df-c696-474f-bd2a-bba9a57b6d1a",
   "metadata": {},
   "source": [
    "b1"
   ]
  },
  {
   "cell_type": "code",
   "execution_count": 33,
   "id": "8c07a004-0f01-4838-b945-6af02dd0e2db",
   "metadata": {},
   "outputs": [
    {
     "data": {
      "text/plain": [
       "[0, 2, 2, 33, 22, 34, 'top', 'data', 10]"
      ]
     },
     "execution_count": 33,
     "metadata": {},
     "output_type": "execute_result"
    }
   ],
   "source": [
    "b1"
   ]
  },
  {
   "cell_type": "code",
   "execution_count": 35,
   "id": "85f4bd19-6636-412f-ad06-ed8d0c2385d3",
   "metadata": {},
   "outputs": [],
   "source": [
    "b1.clear()"
   ]
  },
  {
   "cell_type": "code",
   "execution_count": 36,
   "id": "9787dd36-9c0a-4a7a-bc4c-feda9b665c79",
   "metadata": {},
   "outputs": [
    {
     "data": {
      "text/plain": [
       "[]"
      ]
     },
     "execution_count": 36,
     "metadata": {},
     "output_type": "execute_result"
    }
   ],
   "source": [
    "b1"
   ]
  },
  {
   "cell_type": "code",
   "execution_count": 37,
   "id": "c2d63ebb-5731-4ea1-949c-a5e979fc9e11",
   "metadata": {},
   "outputs": [],
   "source": [
    "t1 = [432,76,3254,765]"
   ]
  },
  {
   "cell_type": "code",
   "execution_count": 38,
   "id": "1a598733-f47f-427d-b707-ee2a59ab1b49",
   "metadata": {},
   "outputs": [
    {
     "data": {
      "text/plain": [
       "[432, 76, 3254, 765]"
      ]
     },
     "execution_count": 38,
     "metadata": {},
     "output_type": "execute_result"
    }
   ],
   "source": [
    "t1"
   ]
  },
  {
   "cell_type": "code",
   "execution_count": 40,
   "id": "93325ddd-df6b-4014-81b8-9a1e96ab63c1",
   "metadata": {},
   "outputs": [],
   "source": [
    "t1[2]=500"
   ]
  },
  {
   "cell_type": "markdown",
   "id": "df65f79b-68ca-4901-899b-d5537a813fc1",
   "metadata": {},
   "source": [
    "t1"
   ]
  },
  {
   "cell_type": "code",
   "execution_count": 41,
   "id": "52fc3b4f-37e8-46d4-aeed-5788a5c45691",
   "metadata": {},
   "outputs": [
    {
     "data": {
      "text/plain": [
       "[432, 76, 500, 765]"
      ]
     },
     "execution_count": 41,
     "metadata": {},
     "output_type": "execute_result"
    }
   ],
   "source": [
    "t1"
   ]
  },
  {
   "cell_type": "code",
   "execution_count": null,
   "id": "3287a2bf-6650-40d4-b8d6-9cc3481e3d19",
   "metadata": {},
   "outputs": [],
   "source": [
    "update by using "
   ]
  }
 ],
 "metadata": {
  "kernelspec": {
   "display_name": "Python 3 (ipykernel)",
   "language": "python",
   "name": "python3"
  },
  "language_info": {
   "codemirror_mode": {
    "name": "ipython",
    "version": 3
   },
   "file_extension": ".py",
   "mimetype": "text/x-python",
   "name": "python",
   "nbconvert_exporter": "python",
   "pygments_lexer": "ipython3",
   "version": "3.11.7"
  }
 },
 "nbformat": 4,
 "nbformat_minor": 5
}
